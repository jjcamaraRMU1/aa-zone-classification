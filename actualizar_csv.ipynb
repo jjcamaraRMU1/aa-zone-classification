{
 "cells": [
  {
   "cell_type": "code",
   "execution_count": 17,
   "metadata": {},
   "outputs": [
    {
     "name": "stdout",
     "output_type": "stream",
     "text": [
      "Data agregada exitosamente al CSV existente!\n",
      "\n",
      "Contenido actual del CSV:\n",
      "        Login           Expected_task  Actual_task\n",
      "0    amarinln                RSP_Stow  IB_Omniscan\n",
      "1    barbepau               IB_Decant     RSP_Stow\n",
      "2    davdoler   ICQA_Simple_Bin_Count   RSP_Q_Stow\n",
      "3     egarmar              RSP_Q_Stow    IB_Decant\n",
      "4    fcristcu        IB_Dock_Admin_IM    IB_Decant\n",
      "..        ...                     ...          ...\n",
      "330  prioange               IB_Decant     RSP_Stow\n",
      "331  rmartsau              RSP_Q_Stow     RSP_Stow\n",
      "332   rojenif  IB_Desapilar_Descargar     RSP_Stow\n",
      "333  tebasisa             IB_Omniscan   RSP_Q_Stow\n",
      "334  wangalbu                RSP_Stow    IB_Decant\n",
      "\n",
      "[335 rows x 3 columns]\n"
     ]
    }
   ],
   "source": [
    "\n",
    "import pandas as pd\n",
    "import os\n",
    "\n",
    "# Nueva data para agregar\n",
    "nueva_data = {\n",
    "    'Login': ['amoyapad', 'ayazizih', 'banoanto', 'diespinf', 'eduapedv',\n",
    "              'eduinsmo', 'egarmar', 'hperezpr', 'iloremed', 'javdeloc',\n",
    "              'jenripoe', 'josejavw', 'josgodix', 'juafherm', 'martmh',\n",
    "              'prioange', 'rmartsau', 'rojenif', 'tebasisa', 'wangalbu'],\n",
    "    \n",
    "    'Expected_task': ['IB_Pallet_Decant', 'RSP_Cart_Builder', 'IB_CM', 'IB_Corral', 'IB_Corral',\n",
    "                      'IB_TT_RCV_SW', 'IB_Jambuster', 'RSP_Pick', 'RSP_Q_Stow', 'IB_Receive',\n",
    "                      'IB_Decant', 'IB_Decant', 'RSP_Cart_Builder', 'RSP_Cart_Builder', 'RSP_Q_Stow',\n",
    "                      'IB_Decant', 'RSP_Q_Stow', 'IB_Desapilar_Descargar', 'IB_Omniscan', 'RSP_Stow'],\n",
    "    \n",
    "    'Actual_task': ['RSP_Stow', 'RSP_Stow', 'IB_Decant', 'IB_Decant', 'IB_Prep',\n",
    "                    'IB_Decant', 'IB_Decant', 'IB_Cubis', 'RSP_Stow', 'IB_Prep',\n",
    "                    'RSP_Stow', 'OB_Tote_runner', 'RSP_Stow', 'RSP_Stow', 'RSP_Stow',\n",
    "                    'RSP_Stow', 'RSP_Stow', 'RSP_Stow', 'RSP_Q_Stow', 'IB_Decant']\n",
    "}\n",
    "\n",
    "# Crear DataFrame con la nueva data\n",
    "df_nuevo = pd.DataFrame(nueva_data)\n",
    "\n",
    "# Verificar si el archivo existe y agregar la nueva data\n",
    "if os.path.exists('tareas_personal.csv'):\n",
    "    # Leer el CSV existente\n",
    "    df_existente = pd.read_csv('tareas_personal.csv')\n",
    "    \n",
    "    # Concatenar el existente con el nuevo\n",
    "    df_final = pd.concat([df_existente, df_nuevo], ignore_index=True)\n",
    "    \n",
    "    # Guardar el CSV actualizado\n",
    "    df_final.to_csv('tareas_personal.csv', index=False)\n",
    "    print(\"Data agregada exitosamente al CSV existente!\")\n",
    "else:\n",
    "    # Si el archivo no existe, mensaje de error\n",
    "    print(\"ERROR\")\n",
    "\n",
    "# Mostrar el contenido actualizado\n",
    "print(\"\\nContenido actual del CSV:\")\n",
    "print(pd.read_csv('tareas_personal.csv'))\n"
   ]
  }
 ],
 "metadata": {
  "kernelspec": {
   "display_name": "Python 3",
   "language": "python",
   "name": "python3"
  },
  "language_info": {
   "codemirror_mode": {
    "name": "ipython",
    "version": 3
   },
   "file_extension": ".py",
   "mimetype": "text/x-python",
   "name": "python",
   "nbconvert_exporter": "python",
   "pygments_lexer": "ipython3",
   "version": "3.13.5"
  }
 },
 "nbformat": 4,
 "nbformat_minor": 2
}
