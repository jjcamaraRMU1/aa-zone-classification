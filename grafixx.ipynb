{
 "cells": [
  {
   "cell_type": "code",
   "execution_count": 9,
   "metadata": {},
   "outputs": [
    {
     "name": "stdout",
     "output_type": "stream",
     "text": [
      "<class 'pandas.core.frame.DataFrame'>\n",
      "RangeIndex: 533 entries, 0 to 532\n",
      "Data columns (total 3 columns):\n",
      " #   Column  Non-Null Count  Dtype  \n",
      "---  ------  --------------  -----  \n",
      " 0   ID      533 non-null    object \n",
      " 1   RATES   533 non-null    float64\n",
      " 2   UIT     533 non-null    float64\n",
      "dtypes: float64(2), object(1)\n",
      "memory usage: 12.6+ KB\n"
     ]
    }
   ],
   "source": [
    "import pandas as pd\n",
    "import plotly.express as px\n",
    "import webbrowser\n",
    "csv_path = \"C:/Users/jjcamara/Desktop/Proyecto/Book1.csv\"\n",
    "df = pd.read_csv(csv_path, delimiter=';')\n",
    "df.info()\n"
   ]
  },
  {
   "cell_type": "code",
   "execution_count": 10,
   "metadata": {},
   "outputs": [
    {
     "data": {
      "text/html": [
       "<div>\n",
       "<style scoped>\n",
       "    .dataframe tbody tr th:only-of-type {\n",
       "        vertical-align: middle;\n",
       "    }\n",
       "\n",
       "    .dataframe tbody tr th {\n",
       "        vertical-align: top;\n",
       "    }\n",
       "\n",
       "    .dataframe thead th {\n",
       "        text-align: right;\n",
       "    }\n",
       "</style>\n",
       "<table border=\"1\" class=\"dataframe\">\n",
       "  <thead>\n",
       "    <tr style=\"text-align: right;\">\n",
       "      <th></th>\n",
       "      <th>ID</th>\n",
       "      <th>RATES</th>\n",
       "      <th>UIT</th>\n",
       "    </tr>\n",
       "  </thead>\n",
       "  <tbody>\n",
       "    <tr>\n",
       "      <th>0</th>\n",
       "      <td>aaemilio</td>\n",
       "      <td>334.691</td>\n",
       "      <td>0.190476</td>\n",
       "    </tr>\n",
       "    <tr>\n",
       "      <th>1</th>\n",
       "      <td>abdbouja</td>\n",
       "      <td>329.889</td>\n",
       "      <td>0.287483</td>\n",
       "    </tr>\n",
       "    <tr>\n",
       "      <th>2</th>\n",
       "      <td>abdelboi</td>\n",
       "      <td>191.742</td>\n",
       "      <td>0.445946</td>\n",
       "    </tr>\n",
       "    <tr>\n",
       "      <th>3</th>\n",
       "      <td>abdellme</td>\n",
       "      <td>261.243</td>\n",
       "      <td>0.256153</td>\n",
       "    </tr>\n",
       "    <tr>\n",
       "      <th>4</th>\n",
       "      <td>abdhzian</td>\n",
       "      <td>360.678</td>\n",
       "      <td>0.242583</td>\n",
       "    </tr>\n",
       "  </tbody>\n",
       "</table>\n",
       "</div>"
      ],
      "text/plain": [
       "         ID    RATES       UIT\n",
       "0  aaemilio  334.691  0.190476\n",
       "1  abdbouja  329.889  0.287483\n",
       "2  abdelboi  191.742  0.445946\n",
       "3  abdellme  261.243  0.256153\n",
       "4  abdhzian  360.678  0.242583"
      ]
     },
     "execution_count": 10,
     "metadata": {},
     "output_type": "execute_result"
    }
   ],
   "source": [
    "df.head()"
   ]
  },
  {
   "cell_type": "code",
   "execution_count": 11,
   "metadata": {},
   "outputs": [
    {
     "data": {
      "text/plain": [
       "ID        object\n",
       "RATES    float64\n",
       "UIT      float64\n",
       "dtype: object"
      ]
     },
     "execution_count": 11,
     "metadata": {},
     "output_type": "execute_result"
    }
   ],
   "source": [
    "df.dtypes"
   ]
  },
  {
   "cell_type": "code",
   "execution_count": 12,
   "metadata": {},
   "outputs": [],
   "source": [
    "\n",
    "# Reemplazar coma por punto antes de convertir\n",
    "df['RATES'] = df['RATES'].astype(str).str.replace(',', '.')\n",
    "df['UIT'] = df['UIT'].astype(str).str.replace(',', '.')\n",
    "\n",
    "# Ahora convertir a float\n",
    "df['RATES'] = pd.to_numeric(df['RATES'], errors='coerce')\n",
    "df['UIT'] = pd.to_numeric(df['UIT'], errors='coerce')"
   ]
  },
  {
   "cell_type": "code",
   "execution_count": 13,
   "metadata": {},
   "outputs": [
    {
     "data": {
      "text/plain": [
       "ID        object\n",
       "RATES    float64\n",
       "UIT      float64\n",
       "dtype: object"
      ]
     },
     "execution_count": 13,
     "metadata": {},
     "output_type": "execute_result"
    }
   ],
   "source": [
    "df.dtypes\n"
   ]
  },
  {
   "cell_type": "code",
   "execution_count": 14,
   "metadata": {},
   "outputs": [
    {
     "data": {
      "text/plain": [
       "ID       0\n",
       "RATES    0\n",
       "UIT      0\n",
       "dtype: int64"
      ]
     },
     "execution_count": 14,
     "metadata": {},
     "output_type": "execute_result"
    }
   ],
   "source": [
    "\n",
    "df.head()\n",
    "df.isnull().sum()\n"
   ]
  },
  {
   "cell_type": "code",
   "execution_count": 15,
   "metadata": {},
   "outputs": [
    {
     "data": {
      "application/vnd.plotly.v1+json": {
       "config": {
        "plotlyServerURL": "https://plot.ly"
       },
       "data": [
        {
         "hovertemplate": "<b>%{hovertext}</b><br><br>Rate=%{x}<br>Unknown Idle Time=%{y}<extra></extra>",
         "hovertext": [
          "aaemilio",
          "abdbouja",
          "abdelboi",
          "abdellme",
          "abdhzian",
          "abzianid",
          "acamposi",
          "accerve",
          "acoaless",
          "adrcerme",
          "adriaceg",
          "adriamaq",
          "afeladel",
          "afrasque",
          "aidelrio",
          "aihuerta",
          "ajauquil",
          "alalexes",
          "alaserg",
          "albamarr",
          "albnmart",
          "alejanfn",
          "alfocone",
          "alfomsan",
          "almayorr",
          "alvalcar",
          "alvarhfr",
          "alvaroog",
          "alvaters",
          "alvcastg",
          "amadorrz",
          "amarinln",
          "amcamado",
          "amgrod",
          "amoyapad",
          "anaruin",
          "anasanzt",
          "anavanes",
          "anburlam",
          "andreulo",
          "angelgme",
          "ankelaij",
          "annidaim",
          "anouguiz",
          "antogarw",
          "antonjma",
          "antotort",
          "anunesba",
          "anyegalf",
          "arayalam",
          "arelgvan",
          "ariaspal",
          "aroxanag",
          "arroboga",
          "artmarli",
          "aucacjen",
          "ayazizih",
          "azamboun",
          "azekrisa",
          "bachelot",
          "bahidahg",
          "bailvice",
          "baltasma",
          "banoanto",
          "banosrma",
          "barbepau",
          "barcmmar",
          "barrurod",
          "beljcarm",
          "belkmoha",
          "benhafss",
          "berramhm",
          "biengomb",
          "bmartseb",
          "bmendoja",
          "bnoruizb",
          "boizacam",
          "bouissig",
          "boutkhta",
          "brubijen",
          "bulpedro",
          "bveraval",
          "byjimene",
          "cabalbal",
          "cahcarlo",
          "caizapia",
          "calvomun",
          "canofema",
          "canovlak",
          "caparosc",
          "carcampi",
          "cardozoy",
          "carmliqu",
          "carpnjos",
          "carrimap",
          "carrjanj",
          "castiuaa",
          "cazajuaq",
          "ccastelj",
          "cdorinao",
          "chaimebe",
          "clyanira",
          "cmchamor",
          "cocaquod",
          "crespota",
          "crisilvl",
          "crismaz",
          "cruzhlju",
          "csanchlu",
          "cujhonny",
          "dabdelax",
          "dandragw",
          "davdoler",
          "dayrmend",
          "dcarolio",
          "dceliasa",
          "dejepman",
          "dejoseja",
          "delfixju",
          "dfralope",
          "diazrojj",
          "dibelmar",
          "diegosus",
          "djfacund",
          "dmaillva",
          "dpjosevi",
          "droblesd",
          "droblesj",
          "eabadcue",
          "ebconesa",
          "ecofrank",
          "edoborjo",
          "eduapedv",
          "eduarsad",
          "efaelham",
          "egeadani",
          "egearojl",
          "ehamam",
          "ekatgonz",
          "elfamohu",
          "elhajjaa",
          "elkimart",
          "emeljaim",
          "emilyner",
          "emislope",
          "enriqrum",
          "eramosca",
          "erikcarc",
          "esdmarta",
          "espadade",
          "esparzwf",
          "espiydan",
          "essabirs",
          "estebpes",
          "ezmartio",
          "fcarrima",
          "fcristcu",
          "fdeniafu",
          "feepablo",
          "feespinn",
          "fehsuare",
          "felautar",
          "femarias",
          "ferjgarc",
          "fernaaua",
          "fernaolg",
          "ferrufii",
          "fkaailiz",
          "fkfernan",
          "fmadyman",
          "fmariajm",
          "forcamaa",
          "fpenacwi",
          "fracecil",
          "francods",
          "francyuf",
          "fraralar",
          "fuentcay",
          "gaisssek",
          "galanmon",
          "gaonaalr",
          "garcgine",
          "garcigfr",
          "garciije",
          "garcipey",
          "garcksan",
          "garcpju",
          "garridmd",
          "garsgine",
          "gasamuem",
          "ginecana",
          "gizzambr",
          "gonzglui",
          "gonzyver",
          "gpedrojo",
          "gugarmon",
          "guiderce",
          "guillpue",
          "guilmurm",
          "guirjuan",
          "haazouzo",
          "hamabdeg",
          "handrmas",
          "haralejh",
          "hdangonz",
          "hejeroni",
          "herraizc",
          "herrluc",
          "hgaeliot",
          "hieloual",
          "hlopezje",
          "hoboujaw",
          "hperezpr",
          "iantomar",
          "ibanexal",
          "icaballj",
          "icbouhou",
          "ikaawa",
          "ikgeorgi",
          "ilopedav",
          "iloremed",
          "imonserr",
          "imranbak",
          "inaoumeq",
          "iqcastro",
          "irenoton",
          "isabelmx",
          "ismenend",
          "isriofri",
          "jadrdiaz",
          "jamfadil",
          "jaquellc",
          "jasfranz",
          "javbuenp",
          "jennztor",
          "jenripoe",
          "jgarccar",
          "jhacarri",
          "jimariai",
          "jnatrami",
          "jncuriel",
          "joanmaal",
          "joaqualf",
          "joaqucaw",
          "joaqvida",
          "jokesteb",
          "jonxfern",
          "jorybaly",
          "joscujip",
          "josecamj",
          "josedica",
          "josejavw",
          "josemkmo",
          "josergom",
          "josgodix",
          "josmerpe",
          "josvazql",
          "jotosete",
          "jsreyesc",
          "juafherm",
          "juanjosn",
          "juaqlope",
          "juarcort",
          "jumorenu",
          "karencax",
          "kenddcau",
          "kharmach",
          "khaycmoh",
          "khghizla",
          "krciziun",
          "kroclope",
          "ksvictor",
          "lacaljos",
          "lahlonas",
          "lahlouzf",
          "lajaravs",
          "langeliv",
          "laumvale",
          "lauraqor",
          "laustric",
          "lazarbal",
          "lcarrasi",
          "leolimar",
          "leonmofr",
          "lguzmane",
          "lillojul",
          "linavend",
          "lliherna",
          "llorcato",
          "lmrosama",
          "lopandrp",
          "lopesort",
          "lopezaen",
          "lopezagr",
          "lopezsmv",
          "lopezvpe",
          "lorenpax",
          "lorjuanu",
          "lourdale",
          "lozantom",
          "lsalhoma",
          "luciamav",
          "lucibmar",
          "lugoemel",
          "luiswhid",
          "maamalih",
          "mabadri",
          "mabanosm",
          "maciaecr",
          "macondej",
          "maigrspe",
          "maijuanc",
          "maizimar",
          "mamontoq",
          "manarcim",
          "maogarc",
          "maouichi",
          "mapantol",
          "maqalej",
          "marariol",
          "marcoqca",
          "mariabef",
          "maricafe",
          "marilopr",
          "marinfue",
          "marlooje",
          "marovand",
          "marpremi",
          "marqupil",
          "marreboy",
          "marrenas",
          "martaomo",
          "marthazf",
          "martlaja",
          "martmh",
          "martojes",
          "maruizpe",
          "masegosf",
          "masfmarc",
          "maysvald",
          "mazmarin",
          "mcantama",
          "mdamaiba",
          "medifrav",
          "melgarek",
          "menramat",
          "mgarraqu",
          "migfranh",
          "mihirgjo",
          "mikorteg",
          "mirasane",
          "mlibanol",
          "moanadol",
          "mobouchn",
          "mogkadfi",
          "mohamtik",
          "mohazerh",
          "mohinaou",
          "molerome",
          "molipang",
          "montalac",
          "morexyer",
          "morezant",
          "moyavame",
          "mparedee",
          "mrenosl",
          "mulmirif",
          "murccarm",
          "muysanti",
          "navarrzj",
          "nberramk",
          "nellroch",
          "nelpprad",
          "nmigufer",
          "noeliacu",
          "noguerbe",
          "nolasclu",
          "nortesbm",
          "npedrolu",
          "nzjmar",
          "obandrei",
          "obastida",
          "oevamari",
          "ojuanmma",
          "olmopedf",
          "omariaeu",
          "omolimar",
          "opesergi",
          "oreneses",
          "ortalejd",
          "ortizres",
          "ortsbenj",
          "ossamani",
          "otadrian",
          "ouadbrah",
          "oujobego",
          "paganmor",
          "paladiyq",
          "pbmoreno",
          "peaaleja",
          "pedrnmar",
          "pedroarv",
          "peolivag",
          "perezojm",
          "pinaroan",
          "pjoseaso",
          "planmarb",
          "pmoroleg",
          "ponomaol",
          "pradochm",
          "prioange",
          "provalle",
          "qabdedri",
          "qcalison",
          "qcufranc",
          "qdamaiba",
          "qgomezda",
          "qospulid",
          "queluisa",
          "quevelen",
          "raipared",
          "ramateod",
          "raulmorx",
          "rebjuanh",
          "requenan",
          "reyerubz",
          "reyescen",
          "riquramo",
          "rkdani",
          "rmartsau",
          "rmerceji",
          "rmoraana",
          "rocariny",
          "rodrador",
          "rodriejo",
          "rodrmanv",
          "rojenif",
          "rombotia",
          "rosamdel",
          "rosavsan",
          "rosiquea",
          "rosmilvi",
          "rsanrube",
          "rtsoraya",
          "rubecorr",
          "ruizgimw",
          "ruizvmir",
          "ruurzagg",
          "rwherran",
          "saeloual",
          "sagualdr",
          "salmarir",
          "salomlma",
          "samajoha",
          "sanaemej",
          "sanandrb",
          "sancconz",
          "sanchmbo",
          "sandloai",
          "sanpedrm",
          "santiahg",
          "sapjorge",
          "sarriofi",
          "segpablo",
          "sergigah",
          "sergioof",
          "sheilphe",
          "sherezpa",
          "silvadke",
          "silvkdia",
          "simonsoe",
          "sjuanenr",
          "sonkorti",
          "souadnbe",
          "srosanto",
          "srosiquf",
          "sseraqui",
          "stefafbe",
          "taguisar",
          "tamamorc",
          "taniugar",
          "tatosori",
          "tatrojas",
          "tayalama",
          "tebasisa",
          "tifmartk",
          "tiintric",
          "tloanton",
          "torrclaa",
          "touainho",
          "ttinocoo",
          "ualejmen",
          "uchuarig",
          "ulorerod",
          "uyollope",
          "vacalema",
          "vadohele",
          "varonahr",
          "ventbogd",
          "verdupae",
          "vewrosar",
          "vicentno",
          "vicevicp",
          "vichmari",
          "victopul",
          "vicvargr",
          "vigonzae",
          "vjcarmen",
          "vlojanol",
          "vramieli",
          "weqporti",
          "wsanchla",
          "xandrcas",
          "xantsara",
          "xcoranto",
          "xgarciaz",
          "xmpedroj",
          "xnouguje",
          "xtaniama",
          "yasrahms",
          "yfcastil",
          "ygaralfo",
          "ymartadr",
          "yomarcos",
          "zamoraib",
          "zapatadi",
          "zaraquep",
          "zaseange",
          "zmarigin",
          "zmarmale",
          "zperezar",
          "ztomasmm",
          "zubrayne"
         ],
         "legendgroup": "",
         "marker": {
          "color": "#636efa",
          "symbol": "circle"
         },
         "mode": "markers",
         "name": "",
         "orientation": "v",
         "showlegend": false,
         "type": "scatter",
         "x": {
          "bdata": "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",
          "dtype": "f8"
         },
         "xaxis": "x",
         "y": {
          "bdata": "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",
          "dtype": "f8"
         },
         "yaxis": "y"
        }
       ],
       "layout": {
        "legend": {
         "tracegroupgap": 0
        },
        "template": {
         "data": {
          "bar": [
           {
            "error_x": {
             "color": "#2a3f5f"
            },
            "error_y": {
             "color": "#2a3f5f"
            },
            "marker": {
             "line": {
              "color": "#E5ECF6",
              "width": 0.5
             },
             "pattern": {
              "fillmode": "overlay",
              "size": 10,
              "solidity": 0.2
             }
            },
            "type": "bar"
           }
          ],
          "barpolar": [
           {
            "marker": {
             "line": {
              "color": "#E5ECF6",
              "width": 0.5
             },
             "pattern": {
              "fillmode": "overlay",
              "size": 10,
              "solidity": 0.2
             }
            },
            "type": "barpolar"
           }
          ],
          "carpet": [
           {
            "aaxis": {
             "endlinecolor": "#2a3f5f",
             "gridcolor": "white",
             "linecolor": "white",
             "minorgridcolor": "white",
             "startlinecolor": "#2a3f5f"
            },
            "baxis": {
             "endlinecolor": "#2a3f5f",
             "gridcolor": "white",
             "linecolor": "white",
             "minorgridcolor": "white",
             "startlinecolor": "#2a3f5f"
            },
            "type": "carpet"
           }
          ],
          "choropleth": [
           {
            "colorbar": {
             "outlinewidth": 0,
             "ticks": ""
            },
            "type": "choropleth"
           }
          ],
          "contour": [
           {
            "colorbar": {
             "outlinewidth": 0,
             "ticks": ""
            },
            "colorscale": [
             [
              0,
              "#0d0887"
             ],
             [
              0.1111111111111111,
              "#46039f"
             ],
             [
              0.2222222222222222,
              "#7201a8"
             ],
             [
              0.3333333333333333,
              "#9c179e"
             ],
             [
              0.4444444444444444,
              "#bd3786"
             ],
             [
              0.5555555555555556,
              "#d8576b"
             ],
             [
              0.6666666666666666,
              "#ed7953"
             ],
             [
              0.7777777777777778,
              "#fb9f3a"
             ],
             [
              0.8888888888888888,
              "#fdca26"
             ],
             [
              1,
              "#f0f921"
             ]
            ],
            "type": "contour"
           }
          ],
          "contourcarpet": [
           {
            "colorbar": {
             "outlinewidth": 0,
             "ticks": ""
            },
            "type": "contourcarpet"
           }
          ],
          "heatmap": [
           {
            "colorbar": {
             "outlinewidth": 0,
             "ticks": ""
            },
            "colorscale": [
             [
              0,
              "#0d0887"
             ],
             [
              0.1111111111111111,
              "#46039f"
             ],
             [
              0.2222222222222222,
              "#7201a8"
             ],
             [
              0.3333333333333333,
              "#9c179e"
             ],
             [
              0.4444444444444444,
              "#bd3786"
             ],
             [
              0.5555555555555556,
              "#d8576b"
             ],
             [
              0.6666666666666666,
              "#ed7953"
             ],
             [
              0.7777777777777778,
              "#fb9f3a"
             ],
             [
              0.8888888888888888,
              "#fdca26"
             ],
             [
              1,
              "#f0f921"
             ]
            ],
            "type": "heatmap"
           }
          ],
          "histogram": [
           {
            "marker": {
             "pattern": {
              "fillmode": "overlay",
              "size": 10,
              "solidity": 0.2
             }
            },
            "type": "histogram"
           }
          ],
          "histogram2d": [
           {
            "colorbar": {
             "outlinewidth": 0,
             "ticks": ""
            },
            "colorscale": [
             [
              0,
              "#0d0887"
             ],
             [
              0.1111111111111111,
              "#46039f"
             ],
             [
              0.2222222222222222,
              "#7201a8"
             ],
             [
              0.3333333333333333,
              "#9c179e"
             ],
             [
              0.4444444444444444,
              "#bd3786"
             ],
             [
              0.5555555555555556,
              "#d8576b"
             ],
             [
              0.6666666666666666,
              "#ed7953"
             ],
             [
              0.7777777777777778,
              "#fb9f3a"
             ],
             [
              0.8888888888888888,
              "#fdca26"
             ],
             [
              1,
              "#f0f921"
             ]
            ],
            "type": "histogram2d"
           }
          ],
          "histogram2dcontour": [
           {
            "colorbar": {
             "outlinewidth": 0,
             "ticks": ""
            },
            "colorscale": [
             [
              0,
              "#0d0887"
             ],
             [
              0.1111111111111111,
              "#46039f"
             ],
             [
              0.2222222222222222,
              "#7201a8"
             ],
             [
              0.3333333333333333,
              "#9c179e"
             ],
             [
              0.4444444444444444,
              "#bd3786"
             ],
             [
              0.5555555555555556,
              "#d8576b"
             ],
             [
              0.6666666666666666,
              "#ed7953"
             ],
             [
              0.7777777777777778,
              "#fb9f3a"
             ],
             [
              0.8888888888888888,
              "#fdca26"
             ],
             [
              1,
              "#f0f921"
             ]
            ],
            "type": "histogram2dcontour"
           }
          ],
          "mesh3d": [
           {
            "colorbar": {
             "outlinewidth": 0,
             "ticks": ""
            },
            "type": "mesh3d"
           }
          ],
          "parcoords": [
           {
            "line": {
             "colorbar": {
              "outlinewidth": 0,
              "ticks": ""
             }
            },
            "type": "parcoords"
           }
          ],
          "pie": [
           {
            "automargin": true,
            "type": "pie"
           }
          ],
          "scatter": [
           {
            "fillpattern": {
             "fillmode": "overlay",
             "size": 10,
             "solidity": 0.2
            },
            "type": "scatter"
           }
          ],
          "scatter3d": [
           {
            "line": {
             "colorbar": {
              "outlinewidth": 0,
              "ticks": ""
             }
            },
            "marker": {
             "colorbar": {
              "outlinewidth": 0,
              "ticks": ""
             }
            },
            "type": "scatter3d"
           }
          ],
          "scattercarpet": [
           {
            "marker": {
             "colorbar": {
              "outlinewidth": 0,
              "ticks": ""
             }
            },
            "type": "scattercarpet"
           }
          ],
          "scattergeo": [
           {
            "marker": {
             "colorbar": {
              "outlinewidth": 0,
              "ticks": ""
             }
            },
            "type": "scattergeo"
           }
          ],
          "scattergl": [
           {
            "marker": {
             "colorbar": {
              "outlinewidth": 0,
              "ticks": ""
             }
            },
            "type": "scattergl"
           }
          ],
          "scattermap": [
           {
            "marker": {
             "colorbar": {
              "outlinewidth": 0,
              "ticks": ""
             }
            },
            "type": "scattermap"
           }
          ],
          "scattermapbox": [
           {
            "marker": {
             "colorbar": {
              "outlinewidth": 0,
              "ticks": ""
             }
            },
            "type": "scattermapbox"
           }
          ],
          "scatterpolar": [
           {
            "marker": {
             "colorbar": {
              "outlinewidth": 0,
              "ticks": ""
             }
            },
            "type": "scatterpolar"
           }
          ],
          "scatterpolargl": [
           {
            "marker": {
             "colorbar": {
              "outlinewidth": 0,
              "ticks": ""
             }
            },
            "type": "scatterpolargl"
           }
          ],
          "scatterternary": [
           {
            "marker": {
             "colorbar": {
              "outlinewidth": 0,
              "ticks": ""
             }
            },
            "type": "scatterternary"
           }
          ],
          "surface": [
           {
            "colorbar": {
             "outlinewidth": 0,
             "ticks": ""
            },
            "colorscale": [
             [
              0,
              "#0d0887"
             ],
             [
              0.1111111111111111,
              "#46039f"
             ],
             [
              0.2222222222222222,
              "#7201a8"
             ],
             [
              0.3333333333333333,
              "#9c179e"
             ],
             [
              0.4444444444444444,
              "#bd3786"
             ],
             [
              0.5555555555555556,
              "#d8576b"
             ],
             [
              0.6666666666666666,
              "#ed7953"
             ],
             [
              0.7777777777777778,
              "#fb9f3a"
             ],
             [
              0.8888888888888888,
              "#fdca26"
             ],
             [
              1,
              "#f0f921"
             ]
            ],
            "type": "surface"
           }
          ],
          "table": [
           {
            "cells": {
             "fill": {
              "color": "#EBF0F8"
             },
             "line": {
              "color": "white"
             }
            },
            "header": {
             "fill": {
              "color": "#C8D4E3"
             },
             "line": {
              "color": "white"
             }
            },
            "type": "table"
           }
          ]
         },
         "layout": {
          "annotationdefaults": {
           "arrowcolor": "#2a3f5f",
           "arrowhead": 0,
           "arrowwidth": 1
          },
          "autotypenumbers": "strict",
          "coloraxis": {
           "colorbar": {
            "outlinewidth": 0,
            "ticks": ""
           }
          },
          "colorscale": {
           "diverging": [
            [
             0,
             "#8e0152"
            ],
            [
             0.1,
             "#c51b7d"
            ],
            [
             0.2,
             "#de77ae"
            ],
            [
             0.3,
             "#f1b6da"
            ],
            [
             0.4,
             "#fde0ef"
            ],
            [
             0.5,
             "#f7f7f7"
            ],
            [
             0.6,
             "#e6f5d0"
            ],
            [
             0.7,
             "#b8e186"
            ],
            [
             0.8,
             "#7fbc41"
            ],
            [
             0.9,
             "#4d9221"
            ],
            [
             1,
             "#276419"
            ]
           ],
           "sequential": [
            [
             0,
             "#0d0887"
            ],
            [
             0.1111111111111111,
             "#46039f"
            ],
            [
             0.2222222222222222,
             "#7201a8"
            ],
            [
             0.3333333333333333,
             "#9c179e"
            ],
            [
             0.4444444444444444,
             "#bd3786"
            ],
            [
             0.5555555555555556,
             "#d8576b"
            ],
            [
             0.6666666666666666,
             "#ed7953"
            ],
            [
             0.7777777777777778,
             "#fb9f3a"
            ],
            [
             0.8888888888888888,
             "#fdca26"
            ],
            [
             1,
             "#f0f921"
            ]
           ],
           "sequentialminus": [
            [
             0,
             "#0d0887"
            ],
            [
             0.1111111111111111,
             "#46039f"
            ],
            [
             0.2222222222222222,
             "#7201a8"
            ],
            [
             0.3333333333333333,
             "#9c179e"
            ],
            [
             0.4444444444444444,
             "#bd3786"
            ],
            [
             0.5555555555555556,
             "#d8576b"
            ],
            [
             0.6666666666666666,
             "#ed7953"
            ],
            [
             0.7777777777777778,
             "#fb9f3a"
            ],
            [
             0.8888888888888888,
             "#fdca26"
            ],
            [
             1,
             "#f0f921"
            ]
           ]
          },
          "colorway": [
           "#636efa",
           "#EF553B",
           "#00cc96",
           "#ab63fa",
           "#FFA15A",
           "#19d3f3",
           "#FF6692",
           "#B6E880",
           "#FF97FF",
           "#FECB52"
          ],
          "font": {
           "color": "#2a3f5f"
          },
          "geo": {
           "bgcolor": "white",
           "lakecolor": "white",
           "landcolor": "#E5ECF6",
           "showlakes": true,
           "showland": true,
           "subunitcolor": "white"
          },
          "hoverlabel": {
           "align": "left"
          },
          "hovermode": "closest",
          "mapbox": {
           "style": "light"
          },
          "paper_bgcolor": "white",
          "plot_bgcolor": "#E5ECF6",
          "polar": {
           "angularaxis": {
            "gridcolor": "white",
            "linecolor": "white",
            "ticks": ""
           },
           "bgcolor": "#E5ECF6",
           "radialaxis": {
            "gridcolor": "white",
            "linecolor": "white",
            "ticks": ""
           }
          },
          "scene": {
           "xaxis": {
            "backgroundcolor": "#E5ECF6",
            "gridcolor": "white",
            "gridwidth": 2,
            "linecolor": "white",
            "showbackground": true,
            "ticks": "",
            "zerolinecolor": "white"
           },
           "yaxis": {
            "backgroundcolor": "#E5ECF6",
            "gridcolor": "white",
            "gridwidth": 2,
            "linecolor": "white",
            "showbackground": true,
            "ticks": "",
            "zerolinecolor": "white"
           },
           "zaxis": {
            "backgroundcolor": "#E5ECF6",
            "gridcolor": "white",
            "gridwidth": 2,
            "linecolor": "white",
            "showbackground": true,
            "ticks": "",
            "zerolinecolor": "white"
           }
          },
          "shapedefaults": {
           "line": {
            "color": "#2a3f5f"
           }
          },
          "ternary": {
           "aaxis": {
            "gridcolor": "white",
            "linecolor": "white",
            "ticks": ""
           },
           "baxis": {
            "gridcolor": "white",
            "linecolor": "white",
            "ticks": ""
           },
           "bgcolor": "#E5ECF6",
           "caxis": {
            "gridcolor": "white",
            "linecolor": "white",
            "ticks": ""
           }
          },
          "title": {
           "x": 0.05
          },
          "xaxis": {
           "automargin": true,
           "gridcolor": "white",
           "linecolor": "white",
           "ticks": "",
           "title": {
            "standoff": 15
           },
           "zerolinecolor": "white",
           "zerolinewidth": 2
          },
          "yaxis": {
           "automargin": true,
           "gridcolor": "white",
           "linecolor": "white",
           "ticks": "",
           "title": {
            "standoff": 15
           },
           "zerolinecolor": "white",
           "zerolinewidth": 2
          }
         }
        },
        "title": {
         "text": "Unknown Idle Time vs AA Rate"
        },
        "xaxis": {
         "anchor": "y",
         "domain": [
          0,
          1
         ],
         "range": [
          100,
          450
         ],
         "title": {
          "text": "Rate"
         },
         "type": "linear"
        },
        "yaxis": {
         "anchor": "x",
         "domain": [
          0,
          1
         ],
         "range": [
          -0.1,
          1.1
         ],
         "title": {
          "text": "Unknown Idle Time"
         },
         "type": "linear"
        }
       }
      }
     },
     "metadata": {},
     "output_type": "display_data"
    }
   ],
   "source": [
    "# Crear gráfico de dispersión con ejes numéricos\n",
    "fig = px.scatter(\n",
    "    df,\n",
    "    x='RATES',\n",
    "    y='UIT',\n",
    "    hover_name='ID',\n",
    "    title='Unknown Idle Time vs AA Rate',\n",
    "    labels={'RATES': 'Rate', 'UIT': 'Unknown Idle Time'}\n",
    ")\n",
    "\n",
    "# Establecer los rangos de los ejes\n",
    "fig.update_layout(\n",
    "    xaxis=dict(\n",
    "        type='linear',\n",
    "        title='Rate',\n",
    "        range=[100, 450]   # Eje X: de 50 a 450\n",
    "    ),\n",
    "    yaxis=dict(\n",
    "        type='linear',\n",
    "        title='Unknown Idle Time',\n",
    "        range=[-0.1, 1.1]      # Eje Y: de 0 a 1\n",
    "    )\n",
    ")\n",
    "\n",
    "fig.show()"
   ]
  },
  {
   "cell_type": "code",
   "execution_count": 16,
   "metadata": {},
   "outputs": [
    {
     "data": {
      "text/plain": [
       "True"
      ]
     },
     "execution_count": 16,
     "metadata": {},
     "output_type": "execute_result"
    }
   ],
   "source": [
    "# # Crear gráfico de dispersión con ejes numéricos\n",
    "# fig = px.scatter(\n",
    "#     df,\n",
    "#     x='RATES',\n",
    "#     y='UIT',\n",
    "#     hover_name='ID',\n",
    "#     title='Unknown Idle Time vs AA Rate',\n",
    "#     labels={'RATES': 'Rate', 'UIT': 'Unknown Idle Time'}\n",
    "# )\n",
    "\n",
    "# # Asegurar que los ejes son numéricos\n",
    "# fig.update_layout(\n",
    "#     xaxis=dict(type='linear', title='Rate'),\n",
    "#     yaxis=dict(type='linear', title='Unknown Idle Time')\n",
    "# )\n",
    "\n",
    "# fig.show()\n",
    "# Reemplazar coma por punto antes de convertir\n",
    "\n",
    "\n",
    "\n",
    "\n",
    "\n",
    "\n",
    "\n",
    "\n",
    "\n",
    "\n",
    "#declaracion de variables\n",
    "mean_rate = 238\n",
    "mean_uit = 0.2566\n",
    "\n",
    "# Clasificar en zonas\n",
    "def clasificar_zona(row):\n",
    "    if row['RATES'] > mean_rate and row['UIT'] > mean_uit:\n",
    "        return 'Zona 1: Alto Rate y Alto UIT'\n",
    "    elif row['RATES'] > mean_rate and row['UIT'] <= mean_uit:\n",
    "        return 'Zona 2: Alto Rate y Bajo UIT'\n",
    "    elif row['RATES'] <= mean_rate and row['UIT'] > mean_uit:\n",
    "        return 'Zona 3: Bajo Rate y Alto UIT'\n",
    "    else:\n",
    "        return 'Zona 4: Bajo Rate y Bajo UIT'\n",
    "\n",
    "df['Zona'] = df.apply(clasificar_zona, axis=1)\n",
    "\n",
    "fig = px.scatter(\n",
    "    df,\n",
    "    x='RATES',\n",
    "    y='UIT',\n",
    "    color='Zona',\n",
    "    hover_name='ID',\n",
    "    title='Unknown Idle Time vs AA Rate (Clasificación por zonas)',\n",
    "    labels={'RATES': 'Rate', 'UIT': 'Unknown Idle Time'}\n",
    ")\n",
    "\n",
    "\n",
    "# --- NUEVO: guardar en HTML y abrir en navegador ---\n",
    "output_path = \"C:/Users/jjcamara/Desktop/Proyecto/Book1.html\"\n",
    "fig.write_html(output_path)\n",
    "webbrowser.open(f\"file://{output_path}\")"
   ]
  }
 ],
 "metadata": {
  "kernelspec": {
   "display_name": "Python 3",
   "language": "python",
   "name": "python3"
  },
  "language_info": {
   "codemirror_mode": {
    "name": "ipython",
    "version": 3
   },
   "file_extension": ".py",
   "mimetype": "text/x-python",
   "name": "python",
   "nbconvert_exporter": "python",
   "pygments_lexer": "ipython3",
   "version": "3.13.5"
  }
 },
 "nbformat": 4,
 "nbformat_minor": 2
}
