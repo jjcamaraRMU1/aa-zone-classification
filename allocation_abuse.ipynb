{
 "cells": [
  {
   "cell_type": "code",
   "execution_count": 2,
   "metadata": {},
   "outputs": [],
   "source": [
    "import pandas as pd\n",
    "\n",
    "# Crear el DataFrame\n",
    "data = {\n",
    "    'Login': ['amarinln', 'barbepau', 'davdoler', 'egarmar', 'fcristcu', 'francyuf', \n",
    "              'garcgine', 'gonzglui', 'gpedrojo', 'herraizc', 'hlopezje', 'jmolinaq',\n",
    "              'lliherna', 'murciabe', 'ojuanmma', 'ourkiabm', 'paladiyq', 'prioange',\n",
    "              'rebjuanh', 'rojenif', 'tatosori'],\n",
    "    \n",
    "    'Expected_task': ['RSP_Stow', 'IB_Decant', 'ICQA_Simple_Bin_Count', 'RSP_Q_Stow',\n",
    "                     'IB_Dock_Admin_IM', 'IB_TR', 'RSP_Stow', 'RSP_Cart_Builder',\n",
    "                     'RSP_Cart_Builder', 'IB_CorralChampion', 'RSP_Cart_Builder',\n",
    "                     'RSP_Cart_Builder', 'IB_CM', 'IB_Jambuster', 'IB_CM', 'RSP_Q_Stow',\n",
    "                     'IB_IM', 'IB_Decant', 'ICQA_Simple_Bin_Count', 'IB_Desapilar_Descargar',\n",
    "                     'IB_TR'],\n",
    "    \n",
    "    'Actual_task': ['IB_Omniscan', 'RSP_Stow', 'RSP_Q_Stow', 'IB_Decant', 'IB_Decant',\n",
    "                    'IB_Decant', 'RSP_Q_Stow', 'RSP_Stow', 'RSP_Q_Stow', 'IB_Decant',\n",
    "                    'RSP_Q_Stow', 'IB_Decant', 'RSP_Stow', 'IB_Decant', 'RSP_Stow',\n",
    "                    'RSP_Stow', 'IB_Decant', 'RSP_Stow', 'OB_Tote_runner', 'RSP_Stow',\n",
    "                    'RSP_Stow']\n",
    "}\n",
    "\n",
    "df = pd.DataFrame(data)\n",
    "\n",
    "# Exportar a CSV\n",
    "df.to_csv('tareas_personal.csv', index=False)\n",
    "\n"
   ]
  }
 ],
 "metadata": {
  "kernelspec": {
   "display_name": "Python 3",
   "language": "python",
   "name": "python3"
  },
  "language_info": {
   "codemirror_mode": {
    "name": "ipython",
    "version": 3
   },
   "file_extension": ".py",
   "mimetype": "text/x-python",
   "name": "python",
   "nbconvert_exporter": "python",
   "pygments_lexer": "ipython3",
   "version": "3.13.5"
  }
 },
 "nbformat": 4,
 "nbformat_minor": 2
}
